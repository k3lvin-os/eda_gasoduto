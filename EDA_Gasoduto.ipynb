{
  "nbformat": 4,
  "nbformat_minor": 0,
  "metadata": {
    "colab": {
      "name": "EDA Gasoduto.ipynb",
      "provenance": [],
      "authorship_tag": "ABX9TyNCyQpUjOnuB5BpomFyWBsk",
      "include_colab_link": true
    },
    "kernelspec": {
      "name": "python3",
      "display_name": "Python 3"
    },
    "language_info": {
      "name": "python"
    }
  },
  "cells": [
    {
      "cell_type": "markdown",
      "metadata": {
        "id": "view-in-github",
        "colab_type": "text"
      },
      "source": [
        "<a href=\"https://colab.research.google.com/github/k3lvin-os/eda_gasoduto/blob/main/EDA_Gasoduto.ipynb\" target=\"_parent\"><img src=\"https://colab.research.google.com/assets/colab-badge.svg\" alt=\"Open In Colab\"/></a>"
      ]
    },
    {
      "cell_type": "code",
      "execution_count": 342,
      "metadata": {
        "id": "jqRnCuFwAMmd"
      },
      "outputs": [],
      "source": [
        "import pandas as pd\n",
        "import numpy as np\n",
        "\n",
        "\n",
        "df = pd.read_csv(\n",
        "    'https://www.gov.br/anp/pt-br/centrais-de-conteudo/dados-abertos/arquivos/arquivos-movimentacao-de-gas-natural-em-gasodutos-de-transporte/gn-janeiro-2021_rev1.csv',\n",
        "     dtype= str,\n",
        "     encoding='iso-8859-1', sep=';',\n",
        "     )"
      ]
    },
    {
      "cell_type": "code",
      "source": [
        "#df.head(20)"
      ],
      "metadata": {
        "id": "r9bcUK5Qn9ih"
      },
      "execution_count": 343,
      "outputs": []
    },
    {
      "cell_type": "code",
      "source": [
        "df.shape"
      ],
      "metadata": {
        "colab": {
          "base_uri": "https://localhost:8080/"
        },
        "id": "xheHwIVectgc",
        "outputId": "27486a55-40aa-4614-ec2e-17840a776e8d"
      },
      "execution_count": 344,
      "outputs": [
        {
          "output_type": "execute_result",
          "data": {
            "text/plain": [
              "(2057, 44)"
            ]
          },
          "metadata": {},
          "execution_count": 344
        }
      ]
    },
    {
      "cell_type": "code",
      "source": [
        "df.info()"
      ],
      "metadata": {
        "colab": {
          "base_uri": "https://localhost:8080/"
        },
        "id": "yJpzY5glckX0",
        "outputId": "a865a5cd-05f0-444a-900a-b641f00cb8a3"
      },
      "execution_count": 345,
      "outputs": [
        {
          "output_type": "stream",
          "name": "stdout",
          "text": [
            "<class 'pandas.core.frame.DataFrame'>\n",
            "RangeIndex: 2057 entries, 0 to 2056\n",
            "Data columns (total 44 columns):\n",
            " #   Column                                                 Non-Null Count  Dtype \n",
            "---  ------                                                 --------------  ----- \n",
            " 0   Código da Instalação de Transporte                     2057 non-null   object\n",
            " 1   Nome da Instalação de Transporte                       2057 non-null   object\n",
            " 2   Nome da Instalação de Gasoduto                         1746 non-null   object\n",
            " 3   Código da Instalação de Gasoduto                       1746 non-null   object\n",
            " 4   Tipo da Instalação do Gasoduto                         1746 non-null   object\n",
            " 5   Nome do Município da Instalação de Gasoduto            1812 non-null   object\n",
            " 6   Nome da UF da Instalação de Gasoduto                   1812 non-null   object\n",
            " 7   Nome do Operador da Instalação de Gasoduto             2057 non-null   object\n",
            " 8   Código do Operador da Instalação de Gasoduto           2057 non-null   object\n",
            " 9   Nome do Carregador que usa a Instalação de Gasoduto    2057 non-null   object\n",
            " 10  Código do Carregador que usa a Instalação de Gasoduto  2006 non-null   object\n",
            " 11  Nome do Contrato da Instalação do Gasoduto             1640 non-null   object\n",
            " 12  Nome da variável                                       2057 non-null   object\n",
            " 13  01/01/2021                                             2057 non-null   object\n",
            " 14  02/01/2021                                             2057 non-null   object\n",
            " 15  03/01/2021                                             2057 non-null   object\n",
            " 16  04/01/2021                                             2057 non-null   object\n",
            " 17  05/01/2021                                             2057 non-null   object\n",
            " 18  06/01/2021                                             2057 non-null   object\n",
            " 19  07/01/2021                                             2057 non-null   object\n",
            " 20  08/01/2021                                             2057 non-null   object\n",
            " 21  09/01/2021                                             2057 non-null   object\n",
            " 22  10/01/2021                                             2057 non-null   object\n",
            " 23  11/01/2021                                             2057 non-null   object\n",
            " 24  12/01/2021                                             2057 non-null   object\n",
            " 25  13/01/2021                                             2057 non-null   object\n",
            " 26  14/01/2021                                             2057 non-null   object\n",
            " 27  15/01/2021                                             2057 non-null   object\n",
            " 28  16/01/2021                                             2057 non-null   object\n",
            " 29  17/01/2021                                             2057 non-null   object\n",
            " 30  18/01/2021                                             2057 non-null   object\n",
            " 31  19/01/2021                                             2057 non-null   object\n",
            " 32  20/01/2021                                             2057 non-null   object\n",
            " 33  21/01/2021                                             2057 non-null   object\n",
            " 34  22/01/2021                                             2057 non-null   object\n",
            " 35  23/01/2021                                             2057 non-null   object\n",
            " 36  24/01/2021                                             2057 non-null   object\n",
            " 37  25/01/2021                                             2057 non-null   object\n",
            " 38  26/01/2021                                             2057 non-null   object\n",
            " 39  27/01/2021                                             2057 non-null   object\n",
            " 40  28/01/2021                                             2057 non-null   object\n",
            " 41  29/01/2021                                             2057 non-null   object\n",
            " 42  30/01/2021                                             2057 non-null   object\n",
            " 43  31/01/2021                                             2057 non-null   object\n",
            "dtypes: object(44)\n",
            "memory usage: 707.2+ KB\n"
          ]
        }
      ]
    },
    {
      "cell_type": "code",
      "source": [
        "def convert_string_column_to_float(df, column_name):\n",
        "  treated_column = pd.to_numeric(df[column_name],errors='coerce')\n",
        "  treated_column = treated_column.replace(np.nan, -1, regex=True)\n",
        "  treated_column = treated_column.astype(float)\n",
        "  return treated_column"
      ],
      "metadata": {
        "id": "yJB8TSoeSiJW"
      },
      "execution_count": 346,
      "outputs": []
    },
    {
      "cell_type": "code",
      "source": [
        "def convert_string_column_to_integer(df, column_name):\n",
        "  treated_column = pd.to_numeric(df[column_name],errors='coerce')\n",
        "  treated_column = treated_column.replace(np.nan, -1, regex=True)\n",
        "  treated_column = treated_column.astype(int)\n",
        "  return treated_column"
      ],
      "metadata": {
        "id": "K_shCDnqFrG2"
      },
      "execution_count": 347,
      "outputs": []
    },
    {
      "cell_type": "code",
      "source": [
        "df['Código da Instalação de Transporte'] = convert_string_column_to_integer(df, 'Código da Instalação de Transporte')"
      ],
      "metadata": {
        "id": "WLpAyvKnIDYP"
      },
      "execution_count": 348,
      "outputs": []
    },
    {
      "cell_type": "code",
      "source": [
        "assert any(df['Nome da Instalação de Transporte'].isnull()) == False"
      ],
      "metadata": {
        "id": "JXxvOVSzCPtP"
      },
      "execution_count": 349,
      "outputs": []
    },
    {
      "cell_type": "code",
      "source": [
        "df['Nome da Instalação de Gasoduto'] = df['Nome da Instalação de Gasoduto'].fillna('')"
      ],
      "metadata": {
        "id": "_J0w5jllW9zu"
      },
      "execution_count": 350,
      "outputs": []
    },
    {
      "cell_type": "code",
      "source": [
        "df['Código da Instalação de Gasoduto'] = convert_string_column_to_integer(df, 'Código da Instalação de Gasoduto')"
      ],
      "metadata": {
        "id": "tG4tK3mKXTlF"
      },
      "execution_count": 351,
      "outputs": []
    },
    {
      "cell_type": "code",
      "source": [
        "df['Tipo da Instalação do Gasoduto'] = df['Tipo da Instalação do Gasoduto'].fillna('')"
      ],
      "metadata": {
        "id": "Zl3PVXoCZiKN"
      },
      "execution_count": 352,
      "outputs": []
    },
    {
      "cell_type": "code",
      "source": [
        "df['Nome do Município da Instalação de Gasoduto'] = df['Nome do Município da Instalação de Gasoduto'].fillna('')"
      ],
      "metadata": {
        "id": "kdfgrr0eZ0CU"
      },
      "execution_count": 353,
      "outputs": []
    },
    {
      "cell_type": "code",
      "source": [
        "df['Nome da UF da Instalação de Gasoduto'] = df['Nome da UF da Instalação de Gasoduto'].fillna('')"
      ],
      "metadata": {
        "id": "aMJ7u4h8aoPb"
      },
      "execution_count": 354,
      "outputs": []
    },
    {
      "cell_type": "code",
      "source": [
        "df['Nome do Operador da Instalação de Gasoduto'] = df['Nome do Operador da Instalação de Gasoduto'].fillna('')"
      ],
      "metadata": {
        "id": "5IHy-l92dh0E"
      },
      "execution_count": 355,
      "outputs": []
    },
    {
      "cell_type": "code",
      "source": [
        "assert any(df['Código do Operador da Instalação de Gasoduto'].isnull()) == False"
      ],
      "metadata": {
        "id": "sDqD3RlleAjD"
      },
      "execution_count": 356,
      "outputs": []
    },
    {
      "cell_type": "code",
      "source": [
        "assert any(df['Nome do Carregador que usa a Instalação de Gasoduto'].isnull()) == False"
      ],
      "metadata": {
        "id": "o1YHBGzKeJE_"
      },
      "execution_count": 357,
      "outputs": []
    },
    {
      "cell_type": "code",
      "source": [
        "df['Código do Carregador que usa a Instalação de Gasoduto'] = convert_string_column_to_integer(df, 'Código do Carregador que usa a Instalação de Gasoduto')"
      ],
      "metadata": {
        "id": "eJ3jiflwej5j"
      },
      "execution_count": 358,
      "outputs": []
    },
    {
      "cell_type": "code",
      "source": [
        "df['Nome do Contrato da Instalação do Gasoduto'] = df['Nome do Contrato da Instalação do Gasoduto'].fillna('')"
      ],
      "metadata": {
        "id": "CfiEAvL7fH09"
      },
      "execution_count": 359,
      "outputs": []
    },
    {
      "cell_type": "code",
      "source": [
        "df['Código do Carregador que usa a Instalação de Gasoduto'] = convert_string_column_to_integer(df, 'Código do Carregador que usa a Instalação de Gasoduto')"
      ],
      "metadata": {
        "id": "xrSJ8884lqly"
      },
      "execution_count": 360,
      "outputs": []
    },
    {
      "cell_type": "code",
      "source": [
        "assert any(df['Nome do Carregador que usa a Instalação de Gasoduto'].isnull()) == False"
      ],
      "metadata": {
        "id": "XoVKKzbml9Kj"
      },
      "execution_count": 361,
      "outputs": []
    },
    {
      "cell_type": "code",
      "source": [
        "df['Código do Carregador que usa a Instalação de Gasoduto'] = convert_string_column_to_integer(df, 'Código do Carregador que usa a Instalação de Gasoduto')"
      ],
      "metadata": {
        "id": "edYx_TQVmLVz"
      },
      "execution_count": 362,
      "outputs": []
    },
    {
      "cell_type": "code",
      "source": [
        "df['Nome do Contrato da Instalação do Gasoduto'] = df['Nome do Contrato da Instalação do Gasoduto'].fillna('')"
      ],
      "metadata": {
        "id": "_4LjSv-0narM"
      },
      "execution_count": 363,
      "outputs": []
    },
    {
      "cell_type": "code",
      "source": [
        "for float_column_index in range(13, 44):\n",
        "  df.iloc[:, float_column_index] =  pd.to_numeric( df.iloc[:, float_column_index].replace(',', '.', regex = True) )"
      ],
      "metadata": {
        "id": "A1i1bjXHowRJ"
      },
      "execution_count": 364,
      "outputs": []
    },
    {
      "cell_type": "code",
      "source": [
        "df.info()"
      ],
      "metadata": {
        "colab": {
          "base_uri": "https://localhost:8080/"
        },
        "id": "Zaukb1qSroyc",
        "outputId": "96abb194-f585-4c9d-9618-6c1fad7e9d3f"
      },
      "execution_count": 365,
      "outputs": [
        {
          "output_type": "stream",
          "name": "stdout",
          "text": [
            "<class 'pandas.core.frame.DataFrame'>\n",
            "RangeIndex: 2057 entries, 0 to 2056\n",
            "Data columns (total 44 columns):\n",
            " #   Column                                                 Non-Null Count  Dtype  \n",
            "---  ------                                                 --------------  -----  \n",
            " 0   Código da Instalação de Transporte                     2057 non-null   int64  \n",
            " 1   Nome da Instalação de Transporte                       2057 non-null   object \n",
            " 2   Nome da Instalação de Gasoduto                         2057 non-null   object \n",
            " 3   Código da Instalação de Gasoduto                       2057 non-null   int64  \n",
            " 4   Tipo da Instalação do Gasoduto                         2057 non-null   object \n",
            " 5   Nome do Município da Instalação de Gasoduto            2057 non-null   object \n",
            " 6   Nome da UF da Instalação de Gasoduto                   2057 non-null   object \n",
            " 7   Nome do Operador da Instalação de Gasoduto             2057 non-null   object \n",
            " 8   Código do Operador da Instalação de Gasoduto           2057 non-null   object \n",
            " 9   Nome do Carregador que usa a Instalação de Gasoduto    2057 non-null   object \n",
            " 10  Código do Carregador que usa a Instalação de Gasoduto  2057 non-null   int64  \n",
            " 11  Nome do Contrato da Instalação do Gasoduto             2057 non-null   object \n",
            " 12  Nome da variável                                       2057 non-null   object \n",
            " 13  01/01/2021                                             2057 non-null   float64\n",
            " 14  02/01/2021                                             2057 non-null   float64\n",
            " 15  03/01/2021                                             2057 non-null   float64\n",
            " 16  04/01/2021                                             2057 non-null   float64\n",
            " 17  05/01/2021                                             2057 non-null   float64\n",
            " 18  06/01/2021                                             2057 non-null   float64\n",
            " 19  07/01/2021                                             2057 non-null   float64\n",
            " 20  08/01/2021                                             2057 non-null   float64\n",
            " 21  09/01/2021                                             2057 non-null   float64\n",
            " 22  10/01/2021                                             2057 non-null   float64\n",
            " 23  11/01/2021                                             2057 non-null   float64\n",
            " 24  12/01/2021                                             2057 non-null   float64\n",
            " 25  13/01/2021                                             2057 non-null   float64\n",
            " 26  14/01/2021                                             2057 non-null   float64\n",
            " 27  15/01/2021                                             2057 non-null   float64\n",
            " 28  16/01/2021                                             2057 non-null   float64\n",
            " 29  17/01/2021                                             2057 non-null   float64\n",
            " 30  18/01/2021                                             2057 non-null   float64\n",
            " 31  19/01/2021                                             2057 non-null   float64\n",
            " 32  20/01/2021                                             2057 non-null   float64\n",
            " 33  21/01/2021                                             2057 non-null   float64\n",
            " 34  22/01/2021                                             2057 non-null   float64\n",
            " 35  23/01/2021                                             2057 non-null   float64\n",
            " 36  24/01/2021                                             2057 non-null   float64\n",
            " 37  25/01/2021                                             2057 non-null   float64\n",
            " 38  26/01/2021                                             2057 non-null   float64\n",
            " 39  27/01/2021                                             2057 non-null   float64\n",
            " 40  28/01/2021                                             2057 non-null   float64\n",
            " 41  29/01/2021                                             2057 non-null   float64\n",
            " 42  30/01/2021                                             2057 non-null   float64\n",
            " 43  31/01/2021                                             2057 non-null   float64\n",
            "dtypes: float64(31), int64(3), object(10)\n",
            "memory usage: 707.2+ KB\n"
          ]
        }
      ]
    },
    {
      "cell_type": "code",
      "source": [
        "df.shape"
      ],
      "metadata": {
        "colab": {
          "base_uri": "https://localhost:8080/"
        },
        "id": "tx4tf929sleI",
        "outputId": "e2f1fa97-717b-4bd1-d5b4-649ecea98e8c"
      },
      "execution_count": 384,
      "outputs": [
        {
          "output_type": "execute_result",
          "data": {
            "text/plain": [
              "(2057, 44)"
            ]
          },
          "metadata": {},
          "execution_count": 384
        }
      ]
    },
    {
      "cell_type": "code",
      "source": [
        "for i in range(df.shape[0]):\n",
        "  df['Mediana'] =  df.iloc[i, 13:df.shape[1]].median()"
      ],
      "metadata": {
        "id": "WgKbv5WJsO8_"
      },
      "execution_count": 385,
      "outputs": []
    },
    {
      "cell_type": "code",
      "source": [
        "df['Mediana']"
      ],
      "metadata": {
        "colab": {
          "base_uri": "https://localhost:8080/"
        },
        "id": "EKwizq6xuQj-",
        "outputId": "a08ed22f-5209-4711-e69d-4680acea3b19"
      },
      "execution_count": 388,
      "outputs": [
        {
          "output_type": "execute_result",
          "data": {
            "text/plain": [
              "0       28.11\n",
              "1       28.11\n",
              "2       28.11\n",
              "3       28.11\n",
              "4       28.11\n",
              "        ...  \n",
              "2052    28.11\n",
              "2053    28.11\n",
              "2054    28.11\n",
              "2055    28.11\n",
              "2056    28.11\n",
              "Name: Mediana, Length: 2057, dtype: float64"
            ]
          },
          "metadata": {},
          "execution_count": 388
        }
      ]
    }
  ]
}